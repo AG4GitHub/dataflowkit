{
 "cells": [
  {
   "cell_type": "markdown",
   "metadata": {},
   "source": [
    "###   Simplified Hello UFO Dataflow\n",
    "![Hello UFO](https://docs.google.com/drawings/d/16GcbaiyxkE8eKsKiFoIYOMe_VtuDLU7lIFXXUIktAbo/pub?w=1200&h=597)"
   ]
  },
  {
   "cell_type": "code",
   "execution_count": 1,
   "metadata": {
    "collapsed": false
   },
   "outputs": [],
   "source": [
    "import pandas as pd\n",
    "import dataflowkit.datasets as D\n",
    "import dataflowkit.recipes as R"
   ]
  },
  {
   "cell_type": "markdown",
   "metadata": {},
   "source": [
    "### Implement the logic of recipes"
   ]
  },
  {
   "cell_type": "code",
   "execution_count": 2,
   "metadata": {
    "collapsed": true
   },
   "outputs": [],
   "source": [
    "class Formatter(R.BaseRecipe):\n",
    "    def execute(self, ins, outs):\n",
    "        ufo_observation = ins['ufo_observation'].load()\n",
    "        rows = ufo_observation.split('\\n')\n",
    "        location = ''\n",
    "        shape = ''\n",
    "        duration = ''\n",
    "        description = ''\n",
    "        for row in rows:\n",
    "            if row.lower().startswith('location'):\n",
    "                location = ':'.join(row.split(':')[1:]).strip()\n",
    "            elif row.lower().startswith('shape'):\n",
    "                shape = ':'.join(row.split(':')[1:]).strip()\n",
    "            elif row.lower().startswith('duration'):\n",
    "                duration = ':'.join(row.split(':')[1:]).strip()\n",
    "            elif row.lower().startswith('occurred'):\n",
    "                pass\n",
    "            elif row.lower().startswith('reported'):\n",
    "                pass\n",
    "            elif row.lower().startswith('posted'):\n",
    "                pass\n",
    "            else:\n",
    "                description += row\n",
    "        formatted = [{'location': location, 'shape': shape, 'duration': duration, 'description': description}]\n",
    "        outs['formatted'].save(formatted)"
   ]
  },
  {
   "cell_type": "code",
   "execution_count": 3,
   "metadata": {
    "collapsed": true
   },
   "outputs": [],
   "source": [
    "class ColorParser(R.BaseRecipe):\n",
    "    def execute(self, ins, outs):\n",
    "        formatted = ins['formatted'].load()\n",
    "        descriptions = formatted[0]['description'].split(' ')\n",
    "        colors = ['whiteish', 'white', 'red', 'yellow'] # ...\n",
    "        parse_colors = set()\n",
    "        for c in colors:\n",
    "            if c in descriptions:\n",
    "                parse_colors.add(c)\n",
    "        colors = [{'color': c}for c in parse_colors]\n",
    "        outs['color'].save(colors)"
   ]
  },
  {
   "cell_type": "code",
   "execution_count": 4,
   "metadata": {
    "collapsed": true
   },
   "outputs": [],
   "source": [
    "class TypeClassifier(R.BaseRecipe):\n",
    "    def execute(self, ins, outs):\n",
    "        # dummy implementation\n",
    "        outs['type'].save([\n",
    "                {'type': 'diskoid', 'probability': 0.7}, \n",
    "                {'type': 'cigar', 'probability': 0.2},\n",
    "                {'type': 'spheroid', 'probability': 0.1}\n",
    "            ])"
   ]
  },
  {
   "cell_type": "markdown",
   "metadata": {},
   "source": [
    "### Declare recipes and datasets"
   ]
  },
  {
   "cell_type": "code",
   "execution_count": 5,
   "metadata": {
    "collapsed": true
   },
   "outputs": [],
   "source": [
    "ufo_observation = D.InMemory()\n",
    "formatted = D.InMemory()\n",
    "color = D.InMemory()\n",
    "type = D.InMemory()\n",
    "\n",
    "formatter = Formatter()\n",
    "color_parser = ColorParser()\n",
    "type_classifier = TypeClassifier()"
   ]
  },
  {
   "cell_type": "markdown",
   "metadata": {},
   "source": [
    "### Execute with procedure\n",
    "It is recommeded to store the precedures inside a graph class. It is easier to maintain."
   ]
  },
  {
   "cell_type": "code",
   "execution_count": 6,
   "metadata": {
    "collapsed": true
   },
   "outputs": [],
   "source": [
    "report = \"\"\"\n",
    "Occurred : 1/11/2017 18:22 (Entered as : 01/11/2017 19:22)\n",
    "Reported: 1/11/2017 8:28:18 PM 20:28\n",
    "Posted: 1/12/2017\n",
    "Location: Hinesville, GA\n",
    "Shape: Disk\n",
    "Duration:.30\n",
    "1/11/2017 at 6:22 pm I saw two circular flying sausers very bright whiteish in color, and they flew in one on top of the other stoped i\n",
    "\n",
    "At 6:05 P.M on 1/11/2017 I Joshua Holland was sitting on my front porch looking at 5 jets flying in the sky. After 15 minutes they flew off and could no longer see them in the sky. At exactly 6:22 P.M I looked into the sky, and to my left I saw not one but two very bright disc shaped craft flying faster then anything iv ever seen in our skies one on top of the other, whitish in color. They were flying in what looked like the direction of the military base close by my house. \n",
    "\n",
    "These craft stopped in mid air, hovered for just a moment then started flying back into the opposite direction were they originally came from. After three seconds the craft on top flew in front of there craft below. The second craft admitted a flash of light twice then both craft vanished into thin air. I never took my eyes off of them the entire time. \n",
    "\n",
    "Once they vanished I saw a jet fly directly into the same path were the two crafts vanished. I remember seeing the two crafts flying in a very odd manner. They were not fly straight like a plain or jet would, they flew in a very fast circular motion. \n",
    "\n",
    "I have never seen anything quite like this before. I now am a firm believer that there things in our skies that we can’t explain.\n",
    "\n",
    "\n",
    "((NUFORC Note: We spoke via telephone with the witness, and he sounded to us to be quite sincere and sober-minded. We suspect that he is a reliable, and skilled, witness. PD))\n",
    "\"\"\""
   ]
  },
  {
   "cell_type": "code",
   "execution_count": 7,
   "metadata": {
    "collapsed": false
   },
   "outputs": [],
   "source": [
    "ufo_observation.save(report)\n",
    "formatter.execute(ins=dict(ufo_observation=ufo_observation), outs=dict(formatted=formatted))\n",
    "color_parser.execute(ins=dict(formatted=formatted), outs=dict(color=color))\n",
    "type_classifier.execute(ins=dict(color=color), outs=dict(type=type))"
   ]
  },
  {
   "cell_type": "markdown",
   "metadata": {},
   "source": [
    "### Check data integrity"
   ]
  },
  {
   "cell_type": "code",
   "execution_count": 8,
   "metadata": {
    "collapsed": false
   },
   "outputs": [
    {
     "data": {
      "text/html": [
       "<div>\n",
       "<table border=\"1\" class=\"dataframe\">\n",
       "  <thead>\n",
       "    <tr style=\"text-align: right;\">\n",
       "      <th></th>\n",
       "      <th>description</th>\n",
       "      <th>duration</th>\n",
       "      <th>location</th>\n",
       "      <th>shape</th>\n",
       "    </tr>\n",
       "  </thead>\n",
       "  <tbody>\n",
       "    <tr>\n",
       "      <th>0</th>\n",
       "      <td>1/11/2017 at 6:22 pm I saw two circular flying...</td>\n",
       "      <td>.30</td>\n",
       "      <td>Hinesville, GA</td>\n",
       "      <td>Disk</td>\n",
       "    </tr>\n",
       "  </tbody>\n",
       "</table>\n",
       "</div>"
      ],
      "text/plain": [
       "                                         description duration        location  \\\n",
       "0  1/11/2017 at 6:22 pm I saw two circular flying...      .30  Hinesville, GA   \n",
       "\n",
       "  shape  \n",
       "0  Disk  "
      ]
     },
     "metadata": {},
     "output_type": "display_data"
    },
    {
     "data": {
      "text/html": [
       "<div>\n",
       "<table border=\"1\" class=\"dataframe\">\n",
       "  <thead>\n",
       "    <tr style=\"text-align: right;\">\n",
       "      <th></th>\n",
       "      <th>color</th>\n",
       "    </tr>\n",
       "  </thead>\n",
       "  <tbody>\n",
       "    <tr>\n",
       "      <th>0</th>\n",
       "      <td>whiteish</td>\n",
       "    </tr>\n",
       "  </tbody>\n",
       "</table>\n",
       "</div>"
      ],
      "text/plain": [
       "      color\n",
       "0  whiteish"
      ]
     },
     "metadata": {},
     "output_type": "display_data"
    },
    {
     "data": {
      "text/html": [
       "<div>\n",
       "<table border=\"1\" class=\"dataframe\">\n",
       "  <thead>\n",
       "    <tr style=\"text-align: right;\">\n",
       "      <th></th>\n",
       "      <th>probability</th>\n",
       "      <th>type</th>\n",
       "    </tr>\n",
       "  </thead>\n",
       "  <tbody>\n",
       "    <tr>\n",
       "      <th>0</th>\n",
       "      <td>0.7</td>\n",
       "      <td>diskoid</td>\n",
       "    </tr>\n",
       "    <tr>\n",
       "      <th>1</th>\n",
       "      <td>0.2</td>\n",
       "      <td>cigar</td>\n",
       "    </tr>\n",
       "    <tr>\n",
       "      <th>2</th>\n",
       "      <td>0.1</td>\n",
       "      <td>spheroid</td>\n",
       "    </tr>\n",
       "  </tbody>\n",
       "</table>\n",
       "</div>"
      ],
      "text/plain": [
       "   probability      type\n",
       "0          0.7   diskoid\n",
       "1          0.2     cigar\n",
       "2          0.1  spheroid"
      ]
     },
     "metadata": {},
     "output_type": "display_data"
    }
   ],
   "source": [
    "from IPython.display import display\n",
    "display(pd.DataFrame.from_dict(formatted.load()))\n",
    "display(pd.DataFrame.from_dict(color.load()))\n",
    "display(pd.DataFrame.from_dict(type.load()))"
   ]
  }
 ],
 "metadata": {
  "kernelspec": {
   "display_name": "Python 3",
   "language": "python",
   "name": "python3"
  },
  "language_info": {
   "codemirror_mode": {
    "name": "ipython",
    "version": 3
   },
   "file_extension": ".py",
   "mimetype": "text/x-python",
   "name": "python",
   "nbconvert_exporter": "python",
   "pygments_lexer": "ipython3",
   "version": "3.5.1"
  }
 },
 "nbformat": 4,
 "nbformat_minor": 0
}
