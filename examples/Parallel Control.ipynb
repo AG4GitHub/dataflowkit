{
 "cells": [
  {
   "cell_type": "code",
   "execution_count": 1,
   "metadata": {
    "collapsed": false
   },
   "outputs": [],
   "source": [
    "import dataflowkit.datasets as D\n",
    "import dataflowkit.graphs as G\n",
    "import dataflowkit.recipes as R\n",
    "from dataflowkit.utils.print_time import print_time, print_end\n",
    "from multiprocessing import Process, Queue, cpu_count\n",
    "import threading, numpy as np"
   ]
  },
  {
   "cell_type": "code",
   "execution_count": 2,
   "metadata": {
    "collapsed": true
   },
   "outputs": [],
   "source": [
    "class DummyRecipe1(R.BaseRecipe):\n",
    "    # Must be executed in singleton, maybe heavy memory demanding\n",
    "    def execute(self, ins, outs):\n",
    "        # Takes ~ 0.093899s\n",
    "        for i in np.arange(1e6):\n",
    "            pass"
   ]
  },
  {
   "cell_type": "code",
   "execution_count": 3,
   "metadata": {
    "collapsed": true
   },
   "outputs": [],
   "source": [
    "class DummyRecipe2(R.BaseRecipe):\n",
    "    # Hevay calcuation process\n",
    "    def execute(self, ins, outs):\n",
    "        # Takes ~ 0.823933s\n",
    "        for i in np.arange(1e7):\n",
    "            pass"
   ]
  },
  {
   "cell_type": "code",
   "execution_count": 4,
   "metadata": {
    "collapsed": true
   },
   "outputs": [],
   "source": [
    "def thread_job(file_queue, mrf, master_index):\n",
    "    while not file_queue.empty():\n",
    "        file = file_queue.get()\n",
    "        print_time('master_index: ' + str(master_index) + ' file: ' + str(file))\n",
    "        \n",
    "        # declare recipes\n",
    "        dummy_recipe1 = DummyRecipe1()\n",
    "        dummy_recipe2 = DummyRecipe2()\n",
    "        \n",
    "        # declare datasets\n",
    "        dataset1 = D.InMemory()\n",
    "        dataset2 = D.InMemory()\n",
    "        dataset3 = D.InMemory()\n",
    "        \n",
    "        # declare graph\n",
    "        dummy_recipe1.execute(ins=dict(dataset1=dataset1), outs=dict(dataset2=dataset2))\n",
    "        dummy_recipe2.execute(ins=dict(dataset2=dataset2), outs=dict(dataset3=dataset3))\n",
    "        \n",
    "        print_end('master_index: ' + str(master_index) + ' file: ' + str(file))"
   ]
  },
  {
   "cell_type": "markdown",
   "metadata": {},
   "source": [
    "#### Declare the files be process"
   ]
  },
  {
   "cell_type": "code",
   "execution_count": 5,
   "metadata": {
    "collapsed": false
   },
   "outputs": [],
   "source": [
    "file_queue = Queue()\n",
    "files = np.arange(20)\n",
    "for file in files:\n",
    "    file_queue.put(file)"
   ]
  },
  {
   "cell_type": "markdown",
   "metadata": {},
   "source": [
    "#### MasterRecipeFactory must be initialized before opeining the processes"
   ]
  },
  {
   "cell_type": "code",
   "execution_count": 6,
   "metadata": {
    "collapsed": true
   },
   "outputs": [],
   "source": [
    "no_master = 4\n",
    "mrf = G.MasterRecipeFactory.get_inatance()"
   ]
  },
  {
   "cell_type": "markdown",
   "metadata": {},
   "source": [
    "#### Declare the threads"
   ]
  },
  {
   "cell_type": "code",
   "execution_count": 7,
   "metadata": {
    "collapsed": true
   },
   "outputs": [],
   "source": [
    "threads = [threading.Thread(target=thread_job, args=(file_queue, mrf, master_index)) \n",
    "           for master_index in np.arange(no_master)]"
   ]
  },
  {
   "cell_type": "markdown",
   "metadata": {},
   "source": [
    "#### Execute the threads"
   ]
  },
  {
   "cell_type": "code",
   "execution_count": 8,
   "metadata": {
    "collapsed": false
   },
   "outputs": [
    {
     "name": "stdout",
     "output_type": "stream",
     "text": [
      "master_index: 1 file: 1 2.673495\n",
      "master_index: 3 file: 3 2.779977\n",
      "master_index: 2 file: 2 2.977495\n",
      "master_index: 0 file: 0 3.067415\n",
      "master_index: 1 file: 4 2.327544\n",
      "master_index: 3 file: 5 2.278266\n",
      "master_index: 2 file: 6 2.140716\n",
      "master_index: 0 file: 7 2.41691\n",
      "master_index: 1 file: 8 2.393383\n",
      "master_index: 3 file: 9 2.358779\n",
      "master_index: 2 file: 10 2.471605\n",
      "master_index: 0 file: 11 2.320105\n",
      "master_index: 1 file: 12 2.212133\n",
      "master_index: 2 file: 14 2.407975\n",
      "master_index: 3 file: 13 2.648249\n",
      "master_index: 0 file: 15 2.422721\n",
      "master_index: 1 file: 16 2.62666\n",
      "master_index: 3 file: 18 2.292151\n",
      "master_index: 2 file: 17 2.451919\n",
      "master_index: 0 file: 19 2.204667\n"
     ]
    }
   ],
   "source": [
    "for t in threads:\n",
    "    t.start()\n",
    "for t in threads:\n",
    "    t.join()"
   ]
  },
  {
   "cell_type": "code",
   "execution_count": null,
   "metadata": {
    "collapsed": true
   },
   "outputs": [],
   "source": []
  }
 ],
 "metadata": {
  "kernelspec": {
   "display_name": "Python 3",
   "language": "python",
   "name": "python3"
  },
  "language_info": {
   "codemirror_mode": {
    "name": "ipython",
    "version": 3
   },
   "file_extension": ".py",
   "mimetype": "text/x-python",
   "name": "python",
   "nbconvert_exporter": "python",
   "pygments_lexer": "ipython3",
   "version": "3.5.1"
  }
 },
 "nbformat": 4,
 "nbformat_minor": 0
}
