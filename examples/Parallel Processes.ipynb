{
 "cells": [
  {
   "cell_type": "code",
   "execution_count": 1,
   "metadata": {
    "collapsed": false
   },
   "outputs": [],
   "source": [
    "import dataflowkit.datasets as D\n",
    "import dataflowkit.graphs as G\n",
    "import dataflowkit.recipes as R\n",
    "from dataflowkit.utils.print_time import print_time, print_end\n",
    "from multiprocessing import Process, Queue, cpu_count\n",
    "import threading, numpy as np"
   ]
  },
  {
   "cell_type": "code",
   "execution_count": 2,
   "metadata": {
    "collapsed": true
   },
   "outputs": [],
   "source": [
    "class DummyRecipe1(R.BaseRecipe):\n",
    "    # Must be executed in singleton, maybe heavy memory demanding\n",
    "    def execute(self, ins, outs):\n",
    "        # Takes ~ 0.093899s\n",
    "        for i in np.arange(1e6):\n",
    "            pass"
   ]
  },
  {
   "cell_type": "code",
   "execution_count": 3,
   "metadata": {
    "collapsed": true
   },
   "outputs": [],
   "source": [
    "class DummyRecipe2(R.BaseRecipe):\n",
    "    # Hevay calcuation process\n",
    "    def execute(self, ins, outs):\n",
    "        # Takes ~ 0.823933s\n",
    "        for i in np.arange(1e7):\n",
    "            pass"
   ]
  },
  {
   "cell_type": "code",
   "execution_count": 4,
   "metadata": {
    "collapsed": true
   },
   "outputs": [],
   "source": [
    "def process_job(file_queue, mrf, master_index):\n",
    "    while not file_queue.empty():\n",
    "        file = file_queue.get()\n",
    "        print_time('master_index: ' + str(master_index) + ' file: ' + str(file))\n",
    "        \n",
    "        # declare recipes\n",
    "        dummy_recipe1 = mrf.create(DummyRecipe1, no_slaves=1)\n",
    "        dummy_recipe2 = DummyRecipe2()\n",
    "        \n",
    "        # declare datasets\n",
    "        dataset1 = D.InMemory()\n",
    "        dataset2 = D.InMemory()\n",
    "        dataset3 = D.InMemory()\n",
    "        \n",
    "        # declare graph\n",
    "        dummy_recipe1.execute(ins=dict(dataset1=dataset1), outs=dict(dataset2=dataset2))\n",
    "        dummy_recipe2.execute(ins=dict(dataset2=dataset2), outs=dict(dataset3=dataset3))\n",
    "        \n",
    "        print_end('master_index: ' + str(master_index) + ' file: ' + str(file))"
   ]
  },
  {
   "cell_type": "markdown",
   "metadata": {},
   "source": [
    "#### Declare the files be process"
   ]
  },
  {
   "cell_type": "code",
   "execution_count": 5,
   "metadata": {
    "collapsed": false
   },
   "outputs": [],
   "source": [
    "file_queue = Queue()\n",
    "files = np.arange(20)\n",
    "for file in files:\n",
    "    file_queue.put(file)"
   ]
  },
  {
   "cell_type": "markdown",
   "metadata": {},
   "source": [
    "#### MasterRecipeFactory must be initialized before opeining the processes"
   ]
  },
  {
   "cell_type": "code",
   "execution_count": 6,
   "metadata": {
    "collapsed": true
   },
   "outputs": [],
   "source": [
    "no_master = 4\n",
    "mrf = G.MasterRecipeFactory.get_inatance()"
   ]
  },
  {
   "cell_type": "markdown",
   "metadata": {},
   "source": [
    "#### Declare the processes"
   ]
  },
  {
   "cell_type": "code",
   "execution_count": 7,
   "metadata": {
    "collapsed": true
   },
   "outputs": [],
   "source": [
    "processes = [Process(target=process_job, args=(file_queue, mrf, master_index)) \n",
    "             for master_index in np.arange(no_master)]"
   ]
  },
  {
   "cell_type": "markdown",
   "metadata": {},
   "source": [
    "#### Execute the processes"
   ]
  },
  {
   "cell_type": "code",
   "execution_count": 8,
   "metadata": {
    "collapsed": false
   },
   "outputs": [
    {
     "name": "stdout",
     "output_type": "stream",
     "text": [
      "master_index: 0 file: 0 1.674101\n",
      "master_index: 2 file: 2 1.722167\n",
      "master_index: 3 file: 3 1.783775\n",
      "master_index: 1 file: 1 1.954055\n",
      "master_index: 0 file: 4 1.303322\n",
      "master_index: 2 file: 5 1.330583\n",
      "master_index: 3 file: 6 1.438483\n",
      "master_index: 1 file: 7 1.519969\n",
      "master_index: 0 file: 8 1.277872\n",
      "master_index: 2 file: 9 1.301801\n",
      "master_index: 3 file: 10 1.363171\n",
      "master_index: 1 file: 11 1.563292\n",
      "master_index: 0 file: 12 1.496758\n",
      "master_index: 2 file: 13 1.444347\n",
      "master_index: 3 file: 14 1.342112\n",
      "master_index: 1 file: 15 1.342489\n",
      "master_index: 0 file: 16 1.29934\n",
      "master_index: 2 file: 17 1.292061\n",
      "master_index: 3 file: 18 1.168567\n",
      "master_index: 1 file: 19 0.957718\n"
     ]
    }
   ],
   "source": [
    "for p in processes:\n",
    "    p.start()"
   ]
  },
  {
   "cell_type": "code",
   "execution_count": null,
   "metadata": {
    "collapsed": true
   },
   "outputs": [],
   "source": []
  }
 ],
 "metadata": {
  "kernelspec": {
   "display_name": "Python 3",
   "language": "python",
   "name": "python3"
  },
  "language_info": {
   "codemirror_mode": {
    "name": "ipython",
    "version": 3
   },
   "file_extension": ".py",
   "mimetype": "text/x-python",
   "name": "python",
   "nbconvert_exporter": "python",
   "pygments_lexer": "ipython3",
   "version": "3.5.1"
  }
 },
 "nbformat": 4,
 "nbformat_minor": 0
}
