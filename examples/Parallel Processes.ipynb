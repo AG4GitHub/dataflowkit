{
 "cells": [
  {
   "cell_type": "code",
   "execution_count": 1,
   "metadata": {
    "collapsed": false
   },
   "outputs": [],
   "source": [
    "import dataflowkit.datasets as D\n",
    "import dataflowkit.graphs as G\n",
    "import dataflowkit.recipes as R\n",
    "from dataflowkit.utils.print_time import print_time, print_end\n",
    "from multiprocessing import Process, Queue, cpu_count\n",
    "import threading, numpy as np"
   ]
  },
  {
   "cell_type": "code",
   "execution_count": 2,
   "metadata": {
    "collapsed": true
   },
   "outputs": [],
   "source": [
    "class MemoryRecipe(R.BaseRecipe):\n",
    "    def __init__(self):\n",
    "        print('MemoryRecipe initialized')\n",
    "        \n",
    "    # Must be executed in singleton, maybe heavy memory demanding\n",
    "    def execute(self, ins, outs):\n",
    "        # Takes ~ 0.093899s\n",
    "        for i in np.arange(1e6):\n",
    "            pass"
   ]
  },
  {
   "cell_type": "code",
   "execution_count": 3,
   "metadata": {
    "collapsed": true
   },
   "outputs": [],
   "source": [
    "class CPURecipe(R.BaseRecipe):\n",
    "    # Hevay calcuation process\n",
    "    def execute(self, ins, outs):\n",
    "        # Takes ~ 0.823933s\n",
    "        for i in np.arange(1e7):\n",
    "            pass"
   ]
  },
  {
   "cell_type": "code",
   "execution_count": 4,
   "metadata": {
    "collapsed": true
   },
   "outputs": [],
   "source": [
    "def process_job(file_queue, mrf, master_index):\n",
    "    # declare recipes\n",
    "    dummy_recipe1 = mrf.create(MemoryRecipe, no_slaves=1)\n",
    "    dummy_recipe2 = CPURecipe()\n",
    "        \n",
    "    while not file_queue.empty():\n",
    "        file = file_queue.get()\n",
    "        print_time('master_index: ' + str(master_index) + ' file: ' + str(file))\n",
    "        \n",
    "        # declare datasets\n",
    "        dataset1 = D.InMemory()\n",
    "        dataset2 = D.InMemory()\n",
    "        dataset3 = D.InMemory()\n",
    "        \n",
    "        # declare graph\n",
    "        dummy_recipe1.execute(ins=dict(dataset1=dataset1), outs=dict(dataset2=dataset2))\n",
    "        dummy_recipe2.execute(ins=dict(dataset2=dataset2), outs=dict(dataset3=dataset3))\n",
    "        \n",
    "        print_end('master_index: ' + str(master_index) + ' file: ' + str(file))"
   ]
  },
  {
   "cell_type": "markdown",
   "metadata": {},
   "source": [
    "#### Declare the files be process"
   ]
  },
  {
   "cell_type": "code",
   "execution_count": 5,
   "metadata": {
    "collapsed": false
   },
   "outputs": [],
   "source": [
    "file_queue = Queue()\n",
    "files = np.arange(20)\n",
    "for file in files:\n",
    "    file_queue.put(file)"
   ]
  },
  {
   "cell_type": "markdown",
   "metadata": {},
   "source": [
    "#### MasterRecipeFactory must be initialized before opeining the processes"
   ]
  },
  {
   "cell_type": "code",
   "execution_count": 6,
   "metadata": {
    "collapsed": true
   },
   "outputs": [],
   "source": [
    "no_master = 4\n",
    "mrf = G.MasterRecipeFactory.get_inatance()"
   ]
  },
  {
   "cell_type": "markdown",
   "metadata": {},
   "source": [
    "#### Declare the processes"
   ]
  },
  {
   "cell_type": "code",
   "execution_count": 7,
   "metadata": {
    "collapsed": true
   },
   "outputs": [],
   "source": [
    "processes = [Process(target=process_job, args=(file_queue, mrf, master_index)) \n",
    "             for master_index in np.arange(no_master)]"
   ]
  },
  {
   "cell_type": "markdown",
   "metadata": {},
   "source": [
    "#### Execute the processes"
   ]
  },
  {
   "cell_type": "code",
   "execution_count": 8,
   "metadata": {
    "collapsed": false
   },
   "outputs": [
    {
     "name": "stdout",
     "output_type": "stream",
     "text": [
      "MemoryRecipe initialized\n",
      "master_index: 0 file: 0 2.153474\n",
      "master_index: 2 file: 2 2.451004\n",
      "master_index: 1 file: 1 2.487954\n",
      "master_index: 3 file: 3 2.52214\n",
      "master_index: 0 file: 4 1.380044\n",
      "master_index: 2 file: 5 1.34168\n",
      "master_index: 1 file: 6 1.358464\n",
      "master_index: 3 file: 7 1.470402\n",
      "master_index: 0 file: 8 1.403856\n",
      "master_index: 2 file: 9 1.336174\n",
      "master_index: 1 file: 10 1.339905\n",
      "master_index: 3 file: 11 1.377648\n",
      "master_index: 0 file: 12 1.49676\n",
      "master_index: 2 file: 13 1.712059\n",
      "master_index: 1 file: 14 1.744367\n",
      "master_index: 3 file: 15 1.752966\n",
      "master_index: 0 file: 16 1.510662\n",
      "master_index: 2 file: 17 1.32906\n",
      "master_index: 1 file: 18 1.305392\n",
      "master_index: 3 file: 19 1.133146\n"
     ]
    }
   ],
   "source": [
    "for p in processes:\n",
    "    p.start()"
   ]
  },
  {
   "cell_type": "markdown",
   "metadata": {},
   "source": [
    "#### Terminate processes"
   ]
  },
  {
   "cell_type": "code",
   "execution_count": 9,
   "metadata": {
    "collapsed": false
   },
   "outputs": [
    {
     "data": {
      "text/plain": [
       "[None, None, None, None]"
      ]
     },
     "execution_count": 9,
     "metadata": {},
     "output_type": "execute_result"
    }
   ],
   "source": [
    "[p.terminate() for p in processes]"
   ]
  },
  {
   "cell_type": "code",
   "execution_count": null,
   "metadata": {
    "collapsed": true
   },
   "outputs": [],
   "source": []
  }
 ],
 "metadata": {
  "kernelspec": {
   "display_name": "Python 3",
   "language": "python",
   "name": "python3"
  },
  "language_info": {
   "codemirror_mode": {
    "name": "ipython",
    "version": 3
   },
   "file_extension": ".py",
   "mimetype": "text/x-python",
   "name": "python",
   "nbconvert_exporter": "python",
   "pygments_lexer": "ipython3",
   "version": "3.5.1"
  }
 },
 "nbformat": 4,
 "nbformat_minor": 0
}
