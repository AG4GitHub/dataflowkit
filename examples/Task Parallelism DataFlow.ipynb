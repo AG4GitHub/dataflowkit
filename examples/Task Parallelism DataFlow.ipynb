{
 "cells": [
  {
   "cell_type": "markdown",
   "metadata": {},
   "source": [
    "###   Task Parallelism Dataflow\n",
    "![Classify UFO](https://docs.google.com/drawings/d/1PdOkhLhW1ddAlKnEMPN3cXkgdUCsWgf_OitOnpRTb2Y/pub?w=1901&h=1041)"
   ]
  },
  {
   "cell_type": "code",
   "execution_count": 1,
   "metadata": {
    "collapsed": false
   },
   "outputs": [],
   "source": [
    "import time\n",
    "import pandas as pd\n",
    "import numpy as np\n",
    "import dataflowkit.datasets as D\n",
    "import dataflowkit.recipes as R\n",
    "import dataflowkit.graphs as G\n",
    "from dataflowkit.utils.print_time import print_time, print_end\n",
    "from multiprocessing import Process, Queue, cpu_count"
   ]
  },
  {
   "cell_type": "markdown",
   "metadata": {},
   "source": [
    "#### Implement the logic of recipes"
   ]
  },
  {
   "cell_type": "code",
   "execution_count": 2,
   "metadata": {
    "collapsed": true
   },
   "outputs": [],
   "source": [
    "class SubClassifier1Recipe(R.BaseRecipe):\n",
    "    def execute(self, ins, outs):\n",
    "        # classificiation logic...\n",
    "        # Time consuming process\n",
    "        for i in np.arange(1e7):\n",
    "            pass\n",
    "        outs['tag'].save(('Diamond',))"
   ]
  },
  {
   "cell_type": "code",
   "execution_count": 3,
   "metadata": {
    "collapsed": true
   },
   "outputs": [],
   "source": [
    "class SubClassifier2Recipe(R.BaseRecipe):\n",
    "    def execute(self, ins, outs):\n",
    "        # classificiation logic...\n",
    "        # Time consuming process\n",
    "        for i in np.arange(1e7):\n",
    "            pass\n",
    "        outs['tag'].save(('Egg',))"
   ]
  },
  {
   "cell_type": "code",
   "execution_count": 4,
   "metadata": {
    "collapsed": true
   },
   "outputs": [],
   "source": [
    "class ClassifierRecipe(R.BaseRecipe):\n",
    "    def __init__(self):\n",
    "        self._sub_classifier_1 = mrf.create(SubClassifier1Recipe)\n",
    "        self._sub_classifier_2 = mrf.create(SubClassifier2Recipe)\n",
    "        \n",
    "    def execute(self, ins, outs):\n",
    "        tag1 = D.InMemory()\n",
    "        tag2 = D.InMemory()\n",
    "        \n",
    "        # Task parallelsim\n",
    "        mrf.wait([\n",
    "                self._sub_classifier_1.async_execute(ins=dict(), outs=dict(tag=tag1)),\n",
    "                self._sub_classifier_2.async_execute(ins=dict(), outs=dict(tag=tag2))\n",
    "            ])\n",
    "        \n",
    "        # Aggregate the results\n",
    "        tag = tag1.load() + tag2.load()\n",
    "        \n",
    "        outs['tagged_data'].save(tag)"
   ]
  },
  {
   "cell_type": "code",
   "execution_count": 5,
   "metadata": {
    "collapsed": true
   },
   "outputs": [],
   "source": [
    "class DataCleansingRecipe(R.BaseRecipe):\n",
    "    def execute(self, ins, outs):\n",
    "        for i in np.arange(1e7):\n",
    "            pass"
   ]
  },
  {
   "cell_type": "markdown",
   "metadata": {},
   "source": [
    "#### Declare job processer"
   ]
  },
  {
   "cell_type": "code",
   "execution_count": 6,
   "metadata": {
    "collapsed": true
   },
   "outputs": [],
   "source": [
    "def process_job(file_time_queue, file_queue, mrf, master_index):\n",
    "    # declare recipes\n",
    "    data_cleansing_recipe = DataCleansingRecipe()\n",
    "    classifier_recipe = mrf.create(ClassifierRecipe, no_slaves=1) # Becuause classifier-recipe do task parallelism, 1 slave is assigned to handle all classifications\n",
    "    \n",
    "    while True:\n",
    "        file = file_queue.get()\n",
    "        \n",
    "        # declare datasets\n",
    "        tagged_data = D.InMemory()\n",
    "        \n",
    "        # declare graph\n",
    "        data_cleansing_recipe.execute(ins=dict(), outs=dict())\n",
    "        classifier_recipe.execute(ins=dict(), outs=dict(tagged_data=tagged_data))\n",
    "        file_time_queue.put((file, 'end'))"
   ]
  },
  {
   "cell_type": "markdown",
   "metadata": {},
   "source": [
    "#### Declare the files be process"
   ]
  },
  {
   "cell_type": "code",
   "execution_count": 7,
   "metadata": {
    "collapsed": false
   },
   "outputs": [],
   "source": [
    "# This process act as a driver of requesting classification process in different time intervals\n",
    "file_queue = Queue()\n",
    "file_time_queue = Queue()\n",
    "\n",
    "def request_process():\n",
    "    sleep_itfs = [4, 4, 4, 4, 2, 1, 1, 1, 1, 1, 1 ,1, 1, 4, 4, 4, 4, 4, 4]\n",
    "    files = np.arange(len(sleep_itfs))\n",
    "    for file, sleep_itf in zip(files, sleep_itfs):\n",
    "        time.sleep(sleep_itf)\n",
    "        file_time_queue.put((file, 'st'))\n",
    "        file_queue.put(file)"
   ]
  },
  {
   "cell_type": "code",
   "execution_count": 8,
   "metadata": {
    "collapsed": false
   },
   "outputs": [],
   "source": [
    "file_process = Process(target=request_process)"
   ]
  },
  {
   "cell_type": "code",
   "execution_count": 9,
   "metadata": {
    "collapsed": true
   },
   "outputs": [],
   "source": [
    "def time_mark_p():\n",
    "    while True:\n",
    "        file, st_end = file_time_queue.get()\n",
    "        if st_end == 'st':\n",
    "            print_time('response time ' + str(file))\n",
    "        else:\n",
    "            print_end('response time ' + str(file))\n",
    "time_mark_process = Process(target=time_mark_p)"
   ]
  },
  {
   "cell_type": "markdown",
   "metadata": {},
   "source": [
    "#### MasterRecipeFactory must be initialized before opeining the processes"
   ]
  },
  {
   "cell_type": "code",
   "execution_count": 10,
   "metadata": {
    "collapsed": false
   },
   "outputs": [],
   "source": [
    "no_master = 2\n",
    "mrf = G.MasterRecipeFactory.get_inatance(no_s2m_channels=10)"
   ]
  },
  {
   "cell_type": "markdown",
   "metadata": {},
   "source": [
    "#### Declare the processes"
   ]
  },
  {
   "cell_type": "code",
   "execution_count": 11,
   "metadata": {
    "collapsed": true
   },
   "outputs": [],
   "source": [
    "processes = [Process(target=process_job, args=(file_time_queue, file_queue, mrf, master_index)) for master_index in np.arange(no_master)]"
   ]
  },
  {
   "cell_type": "markdown",
   "metadata": {},
   "source": [
    "#### Execute the processes"
   ]
  },
  {
   "cell_type": "code",
   "execution_count": 12,
   "metadata": {
    "collapsed": false
   },
   "outputs": [
    {
     "name": "stdout",
     "output_type": "stream",
     "text": [
      "response time 0 1.348825\n",
      "response time 1 1.216707\n",
      "response time 2 1.241925\n",
      "response time 3 1.177671\n",
      "response time 4 1.1626\n",
      "response time 5 1.241948\n",
      "response time 6 1.386317\n",
      "response time 7 1.377919\n",
      "response time 8 1.343626\n",
      "response time 9 1.33669\n",
      "response time 10 1.319302\n",
      "response time 11 1.404223\n",
      "response time 12 1.226274\n",
      "response time 13 1.171778\n",
      "response time 14 1.232311\n",
      "response time 15 1.116744\n",
      "response time 16 1.112119\n",
      "response time 17 1.211769\n",
      "response time 18 1.070335\n"
     ]
    }
   ],
   "source": [
    "file_process.start()\n",
    "time_mark_process.start()\n",
    "for p in processes:\n",
    "    p.start()"
   ]
  },
  {
   "cell_type": "markdown",
   "metadata": {},
   "source": [
    "#### Terminate the processes"
   ]
  },
  {
   "cell_type": "code",
   "execution_count": 13,
   "metadata": {
    "collapsed": true
   },
   "outputs": [],
   "source": [
    "[p.terminate() for p in processes]\n",
    "file_process.terminate()\n",
    "time_mark_process.terminate()"
   ]
  },
  {
   "cell_type": "code",
   "execution_count": null,
   "metadata": {
    "collapsed": true
   },
   "outputs": [],
   "source": []
  }
 ],
 "metadata": {
  "kernelspec": {
   "display_name": "Python 3",
   "language": "python",
   "name": "python3"
  },
  "language_info": {
   "codemirror_mode": {
    "name": "ipython",
    "version": 3
   },
   "file_extension": ".py",
   "mimetype": "text/x-python",
   "name": "python",
   "nbconvert_exporter": "python",
   "pygments_lexer": "ipython3",
   "version": "3.5.1"
  }
 },
 "nbformat": 4,
 "nbformat_minor": 0
}
