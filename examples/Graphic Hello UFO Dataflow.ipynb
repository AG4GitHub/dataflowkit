{
 "cells": [
  {
   "cell_type": "markdown",
   "metadata": {},
   "source": [
    "###   Hello UFO Dataflow\n",
    "![Hello UFO](https://docs.google.com/drawings/d/16SLY1EuIB7TMhaTl--MoDxQYDmz78BZvDB3A2Axjh20/pub?w=2404&h=1165)"
   ]
  },
  {
   "cell_type": "code",
   "execution_count": 1,
   "metadata": {
    "collapsed": false
   },
   "outputs": [],
   "source": [
    "import pandas as pd\n",
    "import dataflowkit.datasets as D\n",
    "import dataflowkit.recipes as R\n",
    "from dataflowkit.graphs import BaseGraph"
   ]
  },
  {
   "cell_type": "markdown",
   "metadata": {},
   "source": [
    "### Implement the logic of recipes"
   ]
  },
  {
   "cell_type": "code",
   "execution_count": 2,
   "metadata": {
    "collapsed": true
   },
   "outputs": [],
   "source": [
    "# skipped, let all datasets be InMemory and all recipes be BaseRecipe\n",
    "# formatted is Local not InMemory in this demostration which will explain later"
   ]
  },
  {
   "cell_type": "markdown",
   "metadata": {},
   "source": [
    "### Declare the graph"
   ]
  },
  {
   "cell_type": "code",
   "execution_count": 3,
   "metadata": {
    "collapsed": true
   },
   "outputs": [],
   "source": [
    "class Graph(BaseGraph):\n",
    "    def _declare_datasets(self, d):\n",
    "        d.ufo_observation = D.InMemory()\n",
    "        d.formatted = D.Local('/path')\n",
    "        d.speed = D.InMemory()\n",
    "        d.color = D.InMemory()\n",
    "        d.shape = D.InMemory()\n",
    "        d.general_info = D.InMemory()\n",
    "        d.type = D.InMemory()\n",
    "        return d\n",
    "        \n",
    "    def _declare_recipes(self, r):\n",
    "        r.formatter = R.BaseRecipe()\n",
    "        r.speed_parser = R.BaseRecipe()\n",
    "        r.color_parser = R.BaseRecipe()\n",
    "        r.shape_parser = R.BaseRecipe()\n",
    "        r.general_parser = R.BaseRecipe()\n",
    "        r.type_classifier = R.BaseRecipe()\n",
    "        return r\n",
    "        \n",
    "    def _declare_graph(self, R, D):\n",
    "        # The graph is not need to be in sequence, it will be handled automatically\n",
    "        graph = [\n",
    "            # (Recipe, [In-Dataset], [Out-Dataset])\n",
    "            (R.formatter, [D.ufo_observation], [D.formatted]),\n",
    "            (R.speed_parser, [D.formatted], [D.speed]),\n",
    "            (R.color_parser, [D.formatted], [D.color]),\n",
    "            (R.shape_parser, [D.formatted], [D.shape]),\n",
    "            (R.general_parser, [D.formatted], [D.general_info]),\n",
    "            (R.type_classifier, [D.speed, D.color, D.shape], [D.type])\n",
    "        ]\n",
    "        return graph\n",
    "    \n",
    "    def update_datasets(self):\n",
    "        # implementing this method allowing reusing the graph with replacing new location for datasets\n",
    "        # it our case, since all datasets are in-memory, it is trivila\n",
    "        d = self._declare_datasets()\n",
    "        self._update_datasets(d)\n",
    "\n",
    "graph = Graph()"
   ]
  },
  {
   "cell_type": "markdown",
   "metadata": {},
   "source": [
    "### Execute the graph"
   ]
  },
  {
   "cell_type": "code",
   "execution_count": 4,
   "metadata": {
    "collapsed": false
   },
   "outputs": [
    {
     "name": "stdout",
     "output_type": "stream",
     "text": [
      "-> ufo_observation\n",
      "-> formatter\n",
      "-> formatted\n",
      "-> shape_parser\n",
      "-> shape\n",
      "-> general_parser\n",
      "-> general_info\n",
      "-> speed_parser\n",
      "-> speed\n",
      "-> color_parser\n",
      "-> color\n",
      "-> type_classifier\n",
      "-> type\n"
     ]
    }
   ],
   "source": [
    "graph.execute(desc=True) # with desc=True, it will describe the sequence of the graph withou executing"
   ]
  },
  {
   "cell_type": "markdown",
   "metadata": {},
   "source": [
    "### Force only related recipes be execute\n",
    "- For example, the logic of the shape_parser is updated, only the related recipes should be re-executed\n",
    "- It will execute all the related childs and the parents if necessary\n",
    "- In this case, since formatted is stored in Local, which checkpoint is True\n",
    "- It means it can be reload by itself, such that fomatter does not need to be re-executed"
   ]
  },
  {
   "cell_type": "code",
   "execution_count": 5,
   "metadata": {
    "collapsed": false
   },
   "outputs": [
    {
     "name": "stdout",
     "output_type": "stream",
     "text": [
      "-> formatted\n",
      "-> color_parser\n",
      "-> color\n",
      "-> shape_parser\n",
      "-> shape\n",
      "-> speed_parser\n",
      "-> speed\n",
      "-> type_classifier\n",
      "-> type\n"
     ]
    }
   ],
   "source": [
    "graph.execute_related([graph.R.shape_parser], desc=True)"
   ]
  },
  {
   "cell_type": "code",
   "execution_count": null,
   "metadata": {
    "collapsed": true
   },
   "outputs": [],
   "source": []
  }
 ],
 "metadata": {
  "kernelspec": {
   "display_name": "Python 3",
   "language": "python",
   "name": "python3"
  },
  "language_info": {
   "codemirror_mode": {
    "name": "ipython",
    "version": 3
   },
   "file_extension": ".py",
   "mimetype": "text/x-python",
   "name": "python",
   "nbconvert_exporter": "python",
   "pygments_lexer": "ipython3",
   "version": "3.5.1"
  }
 },
 "nbformat": 4,
 "nbformat_minor": 0
}
